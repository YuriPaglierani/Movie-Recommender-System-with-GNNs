{
 "cells": [
  {
   "cell_type": "code",
   "execution_count": 1,
   "metadata": {},
   "outputs": [],
   "source": [
    "import torch\n",
    "import requests\n",
    "import polars as pl\n",
    "\n",
    "from io import StringIO\n",
    "\n",
    "torch.manual_seed(0)\n",
    "torch.cuda.manual_seed(0)\n",
    "torch.cuda.manual_seed_all(0)\n",
    "torch.backends.cudnn.deterministic = True\n",
    "torch.backends.cudnn.benchmark = False"
   ]
  },
  {
   "cell_type": "code",
   "execution_count": 2,
   "metadata": {},
   "outputs": [],
   "source": [
    "base_url = \"https://raw.githubusercontent.com/Venkat2811/Analyzing-Book-Data-Hadoop/master/2%20Raw%20Input%20Files/\"\n",
    "filenames = [\"BX-Book-Ratings.csv\", \"BX-Books.csv\", \"BX-Users.csv\"]\n",
    "\n",
    "dataframes = {}\n",
    "\n",
    "for filename in filenames:\n",
    "    url = base_url + filename\n",
    "    response = requests.get(url)\n",
    "    response.raise_for_status()\n",
    "    data = StringIO(response.text)\n",
    "    df = pl.read_csv(data, separator=';', encoding='latin1', ignore_errors=True, truncate_ragged_lines=True)\n",
    "    dataframes[filename] = df\n",
    "\n",
    "users = dataframes[\"BX-Users.csv\"]\n",
    "books = dataframes[\"BX-Books.csv\"]\n",
    "ratings = dataframes[\"BX-Book-Ratings.csv\"]"
   ]
  },
  {
   "cell_type": "code",
   "execution_count": 3,
   "metadata": {},
   "outputs": [
    {
     "name": "stdout",
     "output_type": "stream",
     "text": [
      "Books\n",
      "shape: (9, 9)\n",
      "┌───────────┬───────────┬───────────┬───────────┬───┬───────────┬───────────┬───────────┬──────────┐\n",
      "│ statistic ┆ ISBN      ┆ Book-Titl ┆ Book-Auth ┆ … ┆ Publisher ┆ Image-URL ┆ Image-URL ┆ Image-UR │\n",
      "│ ---       ┆ ---       ┆ e         ┆ or        ┆   ┆ ---       ┆ -S        ┆ -M        ┆ L-L      │\n",
      "│ str       ┆ str       ┆ ---       ┆ ---       ┆   ┆ str       ┆ ---       ┆ ---       ┆ ---      │\n",
      "│           ┆           ┆ str       ┆ str       ┆   ┆           ┆ str       ┆ str       ┆ str      │\n",
      "╞═══════════╪═══════════╪═══════════╪═══════════╪═══╪═══════════╪═══════════╪═══════════╪══════════╡\n",
      "│ count     ┆ 270760    ┆ 270760    ┆ 270760    ┆ … ┆ 270760    ┆ 270760    ┆ 270730    ┆ 270728   │\n",
      "│ null_coun ┆ 0         ┆ 0         ┆ 0         ┆ … ┆ 0         ┆ 0         ┆ 30        ┆ 32       │\n",
      "│ t         ┆           ┆           ┆           ┆   ┆           ┆           ┆           ┆          │\n",
      "│ mean      ┆ null      ┆ null      ┆ null      ┆ … ┆ null      ┆ null      ┆ null      ┆ null     │\n",
      "│ std       ┆ null      ┆ null      ┆ null      ┆ … ┆ null      ┆ null      ┆ null      ┆ null     │\n",
      "│ min       ┆ 913154    ┆ A Light   ┆ Assoc     ┆ … ┆ Editions  ┆  Company\" ┆ Anton     ┆ 2001     │\n",
      "│           ┆           ┆ in the    ┆ Inc\"      ┆   ┆ P.        ┆           ┆           ┆          │\n",
      "│           ┆           ┆ Storm:    ┆           ┆   ┆ Terrail   ┆           ┆           ┆          │\n",
      "│           ┆           ┆ The Civ…  ┆           ┆   ┆           ┆           ┆           ┆          │\n",
      "│ 25%       ┆ null      ┆ null      ┆ null      ┆ … ┆ null      ┆ null      ┆ null      ┆ null     │\n",
      "│ 50%       ┆ null      ┆ null      ┆ null      ┆ … ┆ null      ┆ null      ┆ null      ┆ null     │\n",
      "│ 75%       ┆ null      ┆ null      ┆ null      ┆ … ┆ null      ┆ null      ┆ null      ┆ null     │\n",
      "│ max       ┆ B0002K6K8 ┆ Ă?Â?thiqu ┆ Ă?Â?ric   ┆ … ┆ Ă?Â¶bv&am ┆ http://im ┆ http://im ┆ http://i │\n",
      "│           ┆ O         ┆ e en toc  ┆ Holder    ┆   ┆ p;hpt     ┆ ages.amaz ┆ ages.amaz ┆ mages.am │\n",
      "│           ┆           ┆           ┆           ┆   ┆           ┆ on.com/im ┆ on.com/im ┆ azon.com │\n",
      "│           ┆           ┆           ┆           ┆   ┆           ┆ age…      ┆ age…      ┆ /image…  │\n",
      "└───────────┴───────────┴───────────┴───────────┴───┴───────────┴───────────┴───────────┴──────────┘\n",
      "----------------------------------------------------------------------------------------------------\n",
      "Users\n",
      "shape: (9, 4)\n",
      "┌────────────┬───────────────┬─────────────────────────────────┬──────────────────────────┐\n",
      "│ statistic  ┆ User-ID       ┆ Location                        ┆ Age                      │\n",
      "│ ---        ┆ ---           ┆ ---                             ┆ ---                      │\n",
      "│ str        ┆ f64           ┆ str                             ┆ str                      │\n",
      "╞════════════╪═══════════════╪═════════════════════════════════╪══════════════════════════╡\n",
      "│ count      ┆ 201801.0      ┆ 201802                          ┆ 201801                   │\n",
      "│ null_count ┆ 1.0           ┆ 0                               ┆ 1                        │\n",
      "│ mean       ┆ 136441.721751 ┆ null                            ┆ null                     │\n",
      "│ std        ┆ 85743.792981  ┆ null                            ┆ null                     │\n",
      "│ min        ┆ 1.0           ┆ &#19978;&#28023;, shanghai, ch… ┆ &#20025                  │\n",
      "│ 25%        ┆ 59417.0       ┆ null                            ┆ null                     │\n",
      "│ 50%        ┆ 124973.0      ┆ null                            ┆ null                     │\n",
      "│ 75%        ┆ 224424.0      ┆ null                            ┆ null                     │\n",
      "│ max        ┆ 278858.0      ┆ ˝ňńôęđ, ąă¶«ęˇ, china           ┆ stanbul, turkey, turkey\" │\n",
      "└────────────┴───────────────┴─────────────────────────────────┴──────────────────────────┘\n",
      "----------------------------------------------------------------------------------------------------\n",
      "Ratings\n",
      "shape: (9, 4)\n",
      "┌────────────┬──────────────┬──────────────┬─────────────┐\n",
      "│ statistic  ┆ User-ID      ┆ ISBN         ┆ Book-Rating │\n",
      "│ ---        ┆ ---          ┆ ---          ┆ ---         │\n",
      "│ str        ┆ f64          ┆ str          ┆ f64         │\n",
      "╞════════════╪══════════════╪══════════════╪═════════════╡\n",
      "│ count      ┆ 116068.0     ┆ 116068       ┆ 116066.0    │\n",
      "│ null_count ┆ 0.0          ┆ 0            ┆ 2.0         │\n",
      "│ mean       ┆ 161101.40416 ┆ null         ┆ 2.845519    │\n",
      "│ std        ┆ 73849.222424 ┆ null         ┆ 3.857394    │\n",
      "│ min        ┆ 2.0          ┆ *0452281903  ┆ 0.0         │\n",
      "│ 25%        ┆ 144910.0     ┆ null         ┆ 0.0         │\n",
      "│ 50%        ┆ 152696.0     ┆ null         ┆ 0.0         │\n",
      "│ 75%        ┆ 159720.0     ┆ null         ┆ 7.0         │\n",
      "│ max        ┆ 278854.0     ┆ \\8888809228\\ ┆ 10.0        │\n",
      "└────────────┴──────────────┴──────────────┴─────────────┘\n"
     ]
    }
   ],
   "source": [
    "# Display the first few rows of each dataset\n",
    "print(f\"Books\")\n",
    "print(books.describe())\n",
    "# display a horizontal line to separate the outputs\n",
    "print('-'*100)\n",
    "print(f\"Users\")\n",
    "print(users.describe())\n",
    "print('-'*100)\n",
    "print(f\"Ratings\")\n",
    "print(ratings.describe())"
   ]
  },
  {
   "cell_type": "code",
   "execution_count": 4,
   "metadata": {},
   "outputs": [
    {
     "name": "stdout",
     "output_type": "stream",
     "text": [
      "shape: (5, 8)\n",
      "┌────────────┬────────────┬────────────┬───────────┬───────────┬───────────┬───────────┬───────────┐\n",
      "│ ISBN       ┆ Book-Title ┆ Book-Autho ┆ Year-Of-P ┆ Publisher ┆ Image-URL ┆ Image-URL ┆ Image-URL │\n",
      "│ ---        ┆ ---        ┆ r          ┆ ublicatio ┆ ---       ┆ -S        ┆ -M        ┆ -L        │\n",
      "│ str        ┆ str        ┆ ---        ┆ n         ┆ str       ┆ ---       ┆ ---       ┆ ---       │\n",
      "│            ┆            ┆ str        ┆ ---       ┆           ┆ str       ┆ str       ┆ str       │\n",
      "│            ┆            ┆            ┆ i64       ┆           ┆           ┆           ┆           │\n",
      "╞════════════╪════════════╪════════════╪═══════════╪═══════════╪═══════════╪═══════════╪═══════════╡\n",
      "│ 0195153448 ┆ Classical  ┆ Mark P. O. ┆ 2002      ┆ Oxford    ┆ http://im ┆ http://im ┆ http://im │\n",
      "│            ┆ Mythology  ┆ Morford    ┆           ┆ Universit ┆ ages.amaz ┆ ages.amaz ┆ ages.amaz │\n",
      "│            ┆            ┆            ┆           ┆ y Press   ┆ on.com/im ┆ on.com/im ┆ on.com/im │\n",
      "│            ┆            ┆            ┆           ┆           ┆ age…      ┆ age…      ┆ age…      │\n",
      "│ 0002005018 ┆ Clara      ┆ Richard    ┆ 2001      ┆ HarperFla ┆ http://im ┆ http://im ┆ http://im │\n",
      "│            ┆ Callan     ┆ Bruce      ┆           ┆ mingo     ┆ ages.amaz ┆ ages.amaz ┆ ages.amaz │\n",
      "│            ┆            ┆ Wright     ┆           ┆ Canada    ┆ on.com/im ┆ on.com/im ┆ on.com/im │\n",
      "│            ┆            ┆            ┆           ┆           ┆ age…      ┆ age…      ┆ age…      │\n",
      "│ 0060973129 ┆ Decision   ┆ Carlo      ┆ 1991      ┆ HarperPer ┆ http://im ┆ http://im ┆ http://im │\n",
      "│            ┆ in         ┆ D'Este     ┆           ┆ ennial    ┆ ages.amaz ┆ ages.amaz ┆ ages.amaz │\n",
      "│            ┆ Normandy   ┆            ┆           ┆           ┆ on.com/im ┆ on.com/im ┆ on.com/im │\n",
      "│            ┆            ┆            ┆           ┆           ┆ age…      ┆ age…      ┆ age…      │\n",
      "│ 0374157065 ┆ Flu: The   ┆ Gina Bari  ┆ 1999      ┆ Farrar    ┆ http://im ┆ http://im ┆ http://im │\n",
      "│            ┆ Story of   ┆ Kolata     ┆           ┆ Straus    ┆ ages.amaz ┆ ages.amaz ┆ ages.amaz │\n",
      "│            ┆ the Great  ┆            ┆           ┆ Giroux    ┆ on.com/im ┆ on.com/im ┆ on.com/im │\n",
      "│            ┆ In…        ┆            ┆           ┆           ┆ age…      ┆ age…      ┆ age…      │\n",
      "│ 0393045218 ┆ The        ┆ E. J. W.   ┆ 1999      ┆ W. W.     ┆ http://im ┆ http://im ┆ http://im │\n",
      "│            ┆ Mummies of ┆ Barber     ┆           ┆ Norton    ┆ ages.amaz ┆ ages.amaz ┆ ages.amaz │\n",
      "│            ┆ Urumchi    ┆            ┆           ┆ &amp;     ┆ on.com/im ┆ on.com/im ┆ on.com/im │\n",
      "│            ┆            ┆            ┆           ┆ Company   ┆ age…      ┆ age…      ┆ age…      │\n",
      "└────────────┴────────────┴────────────┴───────────┴───────────┴───────────┴───────────┴───────────┘\n",
      "----------------------------------------------------------------------------------------------------\n",
      "shape: (5, 3)\n",
      "┌─────────┬─────────────────────────────────┬──────┐\n",
      "│ User-ID ┆ Location                        ┆ Age  │\n",
      "│ ---     ┆ ---                             ┆ ---  │\n",
      "│ i64     ┆ str                             ┆ str  │\n",
      "╞═════════╪═════════════════════════════════╪══════╡\n",
      "│ 1       ┆ nyc, new york, usa              ┆ NULL │\n",
      "│ 2       ┆ stockton, california, usa       ┆ 18   │\n",
      "│ 3       ┆ moscow, yukon territory, russi… ┆ NULL │\n",
      "│ 4       ┆ porto, v.n.gaia, portugal       ┆ 17   │\n",
      "│ 5       ┆ farnborough, hants, united kin… ┆ NULL │\n",
      "└─────────┴─────────────────────────────────┴──────┘\n",
      "----------------------------------------------------------------------------------------------------\n",
      "shape: (5, 3)\n",
      "┌─────────┬────────────┬─────────────┐\n",
      "│ User-ID ┆ ISBN       ┆ Book-Rating │\n",
      "│ ---     ┆ ---        ┆ ---         │\n",
      "│ i64     ┆ str        ┆ i64         │\n",
      "╞═════════╪════════════╪═════════════╡\n",
      "│ 276725  ┆ 034545104X ┆ 0           │\n",
      "│ 276726  ┆ 0155061224 ┆ 5           │\n",
      "│ 276727  ┆ 0446520802 ┆ 0           │\n",
      "│ 276729  ┆ 052165615X ┆ 3           │\n",
      "│ 276729  ┆ 0521795028 ┆ 6           │\n",
      "└─────────┴────────────┴─────────────┘\n"
     ]
    }
   ],
   "source": [
    "# Display the first few rows of each dataset\n",
    "print(books.head())\n",
    "# display a horizontal line to separate the outputs\n",
    "print('-'*100)\n",
    "print(users.head())\n",
    "print('-'*100)\n",
    "print(ratings.head())"
   ]
  },
  {
   "cell_type": "code",
   "execution_count": 5,
   "metadata": {},
   "outputs": [
    {
     "data": {
      "text/html": [
       "<div><style>\n",
       ".dataframe > thead > tr,\n",
       ".dataframe > tbody > tr {\n",
       "  text-align: right;\n",
       "  white-space: pre-wrap;\n",
       "}\n",
       "</style>\n",
       "<small>shape: (12,)</small><table border=\"1\" class=\"dataframe\"><thead><tr><th>Book-Rating</th></tr><tr><td>i64</td></tr></thead><tbody><tr><td>null</td></tr><tr><td>0</td></tr><tr><td>1</td></tr><tr><td>2</td></tr><tr><td>3</td></tr><tr><td>&hellip;</td></tr><tr><td>6</td></tr><tr><td>7</td></tr><tr><td>8</td></tr><tr><td>9</td></tr><tr><td>10</td></tr></tbody></table></div>"
      ],
      "text/plain": [
       "shape: (12,)\n",
       "Series: 'Book-Rating' [i64]\n",
       "[\n",
       "\tnull\n",
       "\t0\n",
       "\t1\n",
       "\t2\n",
       "\t3\n",
       "\t…\n",
       "\t6\n",
       "\t7\n",
       "\t8\n",
       "\t9\n",
       "\t10\n",
       "]"
      ]
     },
     "execution_count": 5,
     "metadata": {},
     "output_type": "execute_result"
    }
   ],
   "source": [
    "ratings['Book-Rating'].unique()"
   ]
  },
  {
   "cell_type": "code",
   "execution_count": 6,
   "metadata": {},
   "outputs": [
    {
     "data": {
      "image/png": "[encoded data removed]",
      "text/plain": [
       "<Figure size 640x480 with 1 Axes>"
      ]
     },
     "metadata": {},
     "output_type": "display_data"
    }
   ],
   "source": [
    "import matplotlib.pyplot as plt \n",
    "import seaborn as sns \n",
    "\n",
    "x_col = ratings['Book-Rating'].drop_nulls().cast(pl.Int32)\n",
    "palette = sns.color_palette(\"husl\", len(x_col.unique()))\n",
    "sns.countplot(x=x_col, palette=palette, hue=x_col, legend=False)\n",
    "plt.show() \n",
    "del x_col, palette"
   ]
  },
  {
   "cell_type": "code",
   "execution_count": 7,
   "metadata": {},
   "outputs": [
    {
     "name": "stdout",
     "output_type": "stream",
     "text": [
      "11364\n",
      "71760\n"
     ]
    }
   ],
   "source": [
    "print(len(ratings['User-ID'].unique())) \n",
    "print(len(ratings['ISBN'].unique())) "
   ]
  },
  {
   "cell_type": "code",
   "execution_count": 9,
   "metadata": {},
   "outputs": [
    {
     "data": {
      "image/png": "[encoded data removed]",
      "text/plain": [
       "<Figure size 640x480 with 1 Axes>"
      ]
     },
     "metadata": {},
     "output_type": "display_data"
    }
   ],
   "source": [
    "isbn_counts = ratings.group_by('ISBN').agg(pl.count('ISBN').alias('count'))\n",
    "count_occurrences = isbn_counts.group_by('count').agg(pl.count('count').alias('occurrences'))\n",
    "count_occurrences_pd = count_occurrences.to_pandas()\n",
    "count_occurrences_pd = count_occurrences_pd.sort_values(by='occurrences', ascending=False)\n",
    "count_occurrences_pd[:15].plot(kind='bar', x='count', y='occurrences', legend=False)\n",
    "\n",
    "plt.xlabel(\"Number of occurrences of an ISBN number\")\n",
    "plt.ylabel(\"Count\")\n",
    "plt.show()\n"
   ]
  },
  {
   "cell_type": "code",
   "execution_count": 10,
   "metadata": {},
   "outputs": [
    {
     "data": {
      "image/png": "[encoded data removed]",
      "text/plain": [
       "<Figure size 640x480 with 1 Axes>"
      ]
     },
     "metadata": {},
     "output_type": "display_data"
    }
   ],
   "source": [
    "userid_counts = ratings.group_by('User-ID').agg(pl.count('User-ID').alias('count'))\n",
    "count_occurrences = userid_counts.group_by('count').agg(pl.count('count').alias('occurrences'))\n",
    "count_occurrences_pd = count_occurrences.to_pandas()\n",
    "count_occurrences_pd = count_occurrences_pd.sort_values(by='occurrences', ascending=False)\n",
    "count_occurrences_pd[:15].plot(kind='bar', x='count', y='occurrences', legend=False)\n",
    "\n",
    "plt.xlabel(\"Number of occurrences of a User-ID\")\n",
    "plt.ylabel(\"Count\")\n",
    "plt.show()"
   ]
  },
  {
   "cell_type": "code",
   "execution_count": 11,
   "metadata": {},
   "outputs": [],
   "source": [
    "import numpy as np\n",
    "from sklearn.model_selection import train_test_split\n",
    "\n",
    "import torch\n",
    "import torch.nn.functional as F\n",
    "from torch import nn, optim, Tensor\n",
    "\n",
    "from torch_geometric.utils import structured_negative_sampling\n",
    "from torch_geometric.nn.conv.gcn_conv import gcn_norm\n",
    "from torch_geometric.nn import LGConv"
   ]
  },
  {
   "cell_type": "code",
   "execution_count": 41,
   "metadata": {},
   "outputs": [],
   "source": [
    "# Preprocessing\n",
    "filtered_ratings = ratings.filter(\n",
    "    pl.col('ISBN').is_in(books['ISBN']) & pl.col('User-ID').is_in(users['User-ID'])\n",
    ")\n",
    "# Keep only the ratings >= 8\n",
    "filtered_ratings = filtered_ratings.filter(pl.col('Book-Rating') >= 8)\n",
    "\n",
    "df = filtered_ratings.head(10000)"
   ]
  },
  {
   "cell_type": "code",
   "execution_count": 42,
   "metadata": {},
   "outputs": [
    {
     "data": {
      "text/html": [
       "<div><style>\n",
       ".dataframe > thead > tr,\n",
       ".dataframe > tbody > tr {\n",
       "  text-align: right;\n",
       "  white-space: pre-wrap;\n",
       "}\n",
       "</style>\n",
       "<small>shape: (5, 3)</small><table border=\"1\" class=\"dataframe\"><thead><tr><th>User-ID</th><th>ISBN</th><th>Book-Rating</th></tr><tr><td>i64</td><td>str</td><td>i64</td></tr></thead><tbody><tr><td>276747</td><td>&quot;0060517794&quot;</td><td>9</td></tr><tr><td>276747</td><td>&quot;0671537458&quot;</td><td>9</td></tr><tr><td>276747</td><td>&quot;0679776818&quot;</td><td>8</td></tr><tr><td>276751</td><td>&quot;3596218098&quot;</td><td>8</td></tr><tr><td>276754</td><td>&quot;0684867621&quot;</td><td>8</td></tr></tbody></table></div>"
      ],
      "text/plain": [
       "shape: (5, 3)\n",
       "┌─────────┬────────────┬─────────────┐\n",
       "│ User-ID ┆ ISBN       ┆ Book-Rating │\n",
       "│ ---     ┆ ---        ┆ ---         │\n",
       "│ i64     ┆ str        ┆ i64         │\n",
       "╞═════════╪════════════╪═════════════╡\n",
       "│ 276747  ┆ 0060517794 ┆ 9           │\n",
       "│ 276747  ┆ 0671537458 ┆ 9           │\n",
       "│ 276747  ┆ 0679776818 ┆ 8           │\n",
       "│ 276751  ┆ 3596218098 ┆ 8           │\n",
       "│ 276754  ┆ 0684867621 ┆ 8           │\n",
       "└─────────┴────────────┴─────────────┘"
      ]
     },
     "execution_count": 42,
     "metadata": {},
     "output_type": "execute_result"
    }
   ],
   "source": [
    "df.head()"
   ]
  },
  {
   "cell_type": "code",
   "execution_count": 43,
   "metadata": {},
   "outputs": [],
   "source": [
    "# Create mappings\n",
    "user_mapping = {userid: i for i, userid in enumerate(df['User-ID'].unique())}\n",
    "item_mapping = {isbn: i for i, isbn in enumerate(df['ISBN'].unique())}\n",
    "\n",
    "# Count users and items\n",
    "num_users = len(user_mapping)\n",
    "num_items = len(item_mapping)\n",
    "num_total = num_users + num_items"
   ]
  },
  {
   "cell_type": "code",
   "execution_count": 44,
   "metadata": {},
   "outputs": [],
   "source": [
    "user_ids = torch.LongTensor([user_mapping[i] for i in df['User-ID']])\n",
    "item_ids = torch.LongTensor([item_mapping[i] for i in df['ISBN']])\n",
    "edge_index = torch.stack((user_ids, item_ids))"
   ]
  },
  {
   "cell_type": "code",
   "execution_count": 45,
   "metadata": {},
   "outputs": [],
   "source": [
    "# Create training, validation, and test adjacency matrices\n",
    "train_index, test_index = train_test_split(range(len(df)), test_size=0.2, random_state=0)\n",
    "val_index, test_index = train_test_split(test_index, test_size=0.5, random_state=0)\n",
    "\n",
    "train_edge_index = edge_index[:, train_index]\n",
    "val_edge_index = edge_index[:, val_index]\n",
    "test_edge_index = edge_index[:, test_index]"
   ]
  },
  {
   "cell_type": "code",
   "execution_count": 46,
   "metadata": {},
   "outputs": [],
   "source": [
    "def sample_mini_batch(edge_index, batch_size=128):\n",
    "    # Generate BATCH_SIZE random indices\n",
    "    index = np.random.choice(range(edge_index.shape[1]), size=batch_size)\n",
    "\n",
    "    # Generate negative sample indices\n",
    "    edge_index = structured_negative_sampling(edge_index)\n",
    "    edge_index = torch.stack(edge_index, dim=0)\n",
    "    \n",
    "    user_index = edge_index[0, index]\n",
    "    pos_item_index = edge_index[1, index]\n",
    "    neg_item_index = edge_index[2, index]\n",
    "    \n",
    "    return user_index, pos_item_index, neg_item_index"
   ]
  },
  {
   "cell_type": "code",
   "execution_count": 47,
   "metadata": {},
   "outputs": [],
   "source": [
    "class LightGCN(nn.Module):\n",
    "    def __init__(self, num_users, num_items, num_layers=4, dim_h=64):\n",
    "        super().__init__()\n",
    "        \n",
    "        self.num_users = num_users\n",
    "        self.num_items = num_items\n",
    "        self.num_layers = num_layers\n",
    "        self.emb_users = nn.Embedding(num_embeddings=self.num_users, embedding_dim=dim_h)\n",
    "        self.emb_items = nn.Embedding(num_embeddings=self.num_items, embedding_dim=dim_h)\n",
    "\n",
    "        self.convs = nn.ModuleList(LGConv() for _ in range(num_layers))\n",
    "\n",
    "        nn.init.normal_(self.emb_users.weight, std=0.01)\n",
    "        nn.init.normal_(self.emb_items.weight, std=0.01)\n",
    "\n",
    "    def forward(self, edge_index):\n",
    "        emb = torch.cat([self.emb_users.weight, self.emb_items.weight])\n",
    "        embs = [emb]\n",
    "\n",
    "        for conv in self.convs:\n",
    "            emb = conv(x=emb, edge_index=edge_index)\n",
    "            embs.append(emb)\n",
    "\n",
    "        emb_final = 1/(self.num_layers+1) * torch.mean(torch.stack(embs, dim=1), dim=1)\n",
    "\n",
    "        emb_users_final, emb_items_final = torch.split(emb_final, [self.num_users, self.num_items])\n",
    "\n",
    "        return emb_users_final, self.emb_users.weight, emb_items_final, self.emb_items.weight"
   ]
  },
  {
   "cell_type": "code",
   "execution_count": 48,
   "metadata": {},
   "outputs": [],
   "source": [
    "def bpr_loss(emb_users_final, emb_users, emb_pos_items_final, emb_pos_items, emb_neg_items_final, emb_neg_items, LAMBDA=0.01):\n",
    "    reg_loss = LAMBDA * (emb_users.norm().pow(2) +\n",
    "                        emb_pos_items.norm().pow(2) +\n",
    "                        emb_neg_items.norm().pow(2))\n",
    "\n",
    "    pos_ratings = torch.mul(emb_users_final, emb_pos_items_final).sum(dim=-1)\n",
    "    neg_ratings = torch.mul(emb_users_final, emb_neg_items_final).sum(dim=-1)\n",
    "\n",
    "    bpr_loss = torch.mean(torch.nn.functional.softplus(pos_ratings - neg_ratings))\n",
    "    # bpr_loss = torch.mean(torch.nn.functional.logsigmoid(pos_ratings - neg_ratings))\n",
    "\n",
    "    return -bpr_loss + reg_loss"
   ]
  },
  {
   "cell_type": "code",
   "execution_count": 49,
   "metadata": {},
   "outputs": [],
   "source": [
    "def get_user_items(edge_index):\n",
    "    user_items = dict()\n",
    "    for i in range(edge_index.shape[1]):\n",
    "        user = edge_index[0][i].item()\n",
    "        item = edge_index[1][i].item()\n",
    "        if user not in user_items:\n",
    "            user_items[user] = []\n",
    "        user_items[user].append(item)\n",
    "    return user_items"
   ]
  },
  {
   "cell_type": "code",
   "execution_count": 50,
   "metadata": {},
   "outputs": [],
   "source": [
    "def compute_recall_at_k(items_ground_truth, items_predicted):\n",
    "    num_correct_pred = np.sum(items_predicted, axis=1)\n",
    "    num_total_pred = np.array([len(items_ground_truth[i]) for i in range(len(items_ground_truth))])\n",
    "\n",
    "    recall = np.mean(num_correct_pred / num_total_pred)\n",
    "\n",
    "    return recall"
   ]
  },
  {
   "cell_type": "code",
   "execution_count": 51,
   "metadata": {},
   "outputs": [],
   "source": [
    "def compute_ndcg_at_k(items_ground_truth, items_predicted, K=20):\n",
    "    test_matrix = np.zeros((len(items_predicted), K))\n",
    "\n",
    "    for i, items in enumerate(items_ground_truth):\n",
    "        length = min(len(items), K)\n",
    "        test_matrix[i, :length] = 1\n",
    "    \n",
    "    max_r = test_matrix\n",
    "    idcg = np.sum(max_r * 1. / np.log2(np.arange(2, K + 2)), axis=1)\n",
    "    dcg = items_predicted * (1. / np.log2(np.arange(2, K + 2)))\n",
    "    dcg = np.sum(dcg, axis=1)\n",
    "    idcg[idcg == 0.] = 1.\n",
    "    ndcg = dcg / idcg\n",
    "    ndcg[np.isnan(ndcg)] = 0.\n",
    "    \n",
    "    return np.mean(ndcg)"
   ]
  },
  {
   "cell_type": "code",
   "execution_count": 52,
   "metadata": {},
   "outputs": [],
   "source": [
    "# wrapper function to get evaluation metrics\n",
    "def get_metrics(model, edge_index, exclude_edge_indices, K=20):\n",
    "\n",
    "    ratings = torch.matmul(model.emb_users.weight, model.emb_items.weight.T)\n",
    "\n",
    "    for exclude_edge_index in exclude_edge_indices:\n",
    "        user_pos_items = get_user_items(exclude_edge_index)\n",
    "        exclude_users = []\n",
    "        exclude_items = []\n",
    "        for user, items in user_pos_items.items():\n",
    "            exclude_users.extend([user] * len(items))\n",
    "            exclude_items.extend(items)\n",
    "        ratings[exclude_users, exclude_items] = -1024\n",
    "\n",
    "    # get the top k recommended items for each user\n",
    "    _, top_K_items = torch.topk(ratings, k=K)\n",
    "\n",
    "    # get all unique users in evaluated split\n",
    "    users = edge_index[0].unique()\n",
    "\n",
    "    test_user_pos_items = get_user_items(edge_index)\n",
    "\n",
    "    # convert test user pos items dictionary into a list\n",
    "    test_user_pos_items_list = [test_user_pos_items[user.item()] for user in users]\n",
    "\n",
    "    # determine the correctness of topk predictions\n",
    "    items_predicted = []\n",
    "    for user in users:\n",
    "        ground_truth_items = test_user_pos_items[user.item()]\n",
    "        label = list(map(lambda x: x in ground_truth_items, top_K_items[user]))\n",
    "        items_predicted.append(label)\n",
    "\n",
    "    recall = compute_recall_at_k(test_user_pos_items_list, items_predicted)\n",
    "    ndcg = compute_ndcg_at_k(test_user_pos_items_list, items_predicted, K=K)\n",
    "\n",
    "    return recall, ndcg"
   ]
  },
  {
   "cell_type": "code",
   "execution_count": 53,
   "metadata": {},
   "outputs": [],
   "source": [
    "# wrapper function to evaluate model\n",
    "def test(model, edge_index, exclude_edge_indices, K=20):\n",
    "    emb_users_final, emb_users, emb_items_final, emb_items = model.forward(edge_index)\n",
    "    user_indices, pos_item_indices, neg_item_indices = structured_negative_sampling(edge_index, contains_neg_self_loops=False)\n",
    "\n",
    "    emb_users_final, emb_users = emb_users_final[user_indices], emb_users[user_indices]\n",
    "\n",
    "    emb_pos_items_final, emb_pos_items = emb_items_final[pos_item_indices], emb_items[pos_item_indices]\n",
    "    emb_neg_items_final, emb_neg_items = emb_items_final[neg_item_indices], emb_items[neg_item_indices]\n",
    "\n",
    "    loss = bpr_loss(emb_users_final, emb_users, emb_pos_items_final, emb_pos_items, emb_neg_items_final, emb_neg_items).item()\n",
    "\n",
    "    recall, ndcg = get_metrics(model, edge_index, exclude_edge_indices, K=K)\n",
    "\n",
    "    return loss, recall, ndcg"
   ]
  },
  {
   "cell_type": "code",
   "execution_count": 54,
   "metadata": {},
   "outputs": [],
   "source": [
    "K = 20\n",
    "LAMBDA = 1e-6\n",
    "BATCH_SIZE = 128"
   ]
  },
  {
   "cell_type": "code",
   "execution_count": 55,
   "metadata": {},
   "outputs": [],
   "source": [
    "device = torch.device('cuda' if torch.cuda.is_available() else 'cpu')\n",
    "\n",
    "model = LightGCN(num_users, num_items)\n",
    "model = model.to(device)\n",
    "edge_index = edge_index.to(device)\n",
    "train_edge_index = train_edge_index.to(device)\n",
    "val_edge_index = val_edge_index.to(device)\n",
    "\n",
    "optimizer = optim.Adam(model.parameters(), lr=0.001)"
   ]
  },
  {
   "cell_type": "code",
   "execution_count": 56,
   "metadata": {},
   "outputs": [
    {
     "name": "stderr",
     "output_type": "stream",
     "text": [
      "  1%|          | 1/100 [00:01<02:40,  1.62s/it]"
     ]
    },
    {
     "name": "stdout",
     "output_type": "stream",
     "text": [
      "Epoch 0 | Train loss: -0.69315 | Val loss: -0.46585 | Val recall@20: 0.00617 | Val ndcg@20: 0.00259\n"
     ]
    },
    {
     "name": "stderr",
     "output_type": "stream",
     "text": [
      "  6%|▌         | 6/100 [00:08<02:06,  1.35s/it]"
     ]
    },
    {
     "name": "stdout",
     "output_type": "stream",
     "text": [
      "Epoch 5 | Train loss: -0.69382 | Val loss: 3.92171 | Val recall@20: 0.00047 | Val ndcg@20: 0.00017\n"
     ]
    },
    {
     "name": "stderr",
     "output_type": "stream",
     "text": [
      " 11%|█         | 11/100 [00:14<01:55,  1.29s/it]"
     ]
    },
    {
     "name": "stdout",
     "output_type": "stream",
     "text": [
      "Epoch 10 | Train loss: -0.69550 | Val loss: 17.40096 | Val recall@20: 0.00000 | Val ndcg@20: 0.00000\n"
     ]
    },
    {
     "name": "stderr",
     "output_type": "stream",
     "text": [
      " 16%|█▌        | 16/100 [00:20<01:49,  1.30s/it]"
     ]
    },
    {
     "name": "stdout",
     "output_type": "stream",
     "text": [
      "Epoch 15 | Train loss: -0.70285 | Val loss: 38.75788 | Val recall@20: 0.00027 | Val ndcg@20: 0.00012\n"
     ]
    },
    {
     "name": "stderr",
     "output_type": "stream",
     "text": [
      " 21%|██        | 21/100 [00:26<01:41,  1.28s/it]"
     ]
    },
    {
     "name": "stdout",
     "output_type": "stream",
     "text": [
      "Epoch 20 | Train loss: -0.72223 | Val loss: 73.07019 | Val recall@20: 0.00027 | Val ndcg@20: 0.00015\n"
     ]
    },
    {
     "name": "stderr",
     "output_type": "stream",
     "text": [
      " 26%|██▌       | 26/100 [00:33<01:35,  1.29s/it]"
     ]
    },
    {
     "name": "stdout",
     "output_type": "stream",
     "text": [
      "Epoch 25 | Train loss: -0.71203 | Val loss: 127.33568 | Val recall@20: 0.00027 | Val ndcg@20: 0.00016\n"
     ]
    },
    {
     "name": "stderr",
     "output_type": "stream",
     "text": [
      " 31%|███       | 31/100 [00:39<01:32,  1.34s/it]"
     ]
    },
    {
     "name": "stdout",
     "output_type": "stream",
     "text": [
      "Epoch 30 | Train loss: -0.73678 | Val loss: 209.51831 | Val recall@20: 0.00217 | Val ndcg@20: 0.00071\n"
     ]
    },
    {
     "name": "stderr",
     "output_type": "stream",
     "text": [
      " 36%|███▌      | 36/100 [00:46<01:26,  1.36s/it]"
     ]
    },
    {
     "name": "stdout",
     "output_type": "stream",
     "text": [
      "Epoch 35 | Train loss: -0.88162 | Val loss: 333.42587 | Val recall@20: 0.00217 | Val ndcg@20: 0.00088\n"
     ]
    },
    {
     "name": "stderr",
     "output_type": "stream",
     "text": [
      " 41%|████      | 41/100 [00:52<01:19,  1.34s/it]"
     ]
    },
    {
     "name": "stdout",
     "output_type": "stream",
     "text": [
      "Epoch 40 | Train loss: -1.04415 | Val loss: 490.40512 | Val recall@20: 0.00217 | Val ndcg@20: 0.00090\n"
     ]
    },
    {
     "name": "stderr",
     "output_type": "stream",
     "text": [
      " 46%|████▌     | 46/100 [00:58<01:09,  1.29s/it]"
     ]
    },
    {
     "name": "stdout",
     "output_type": "stream",
     "text": [
      "Epoch 45 | Train loss: -1.13995 | Val loss: 687.41913 | Val recall@20: 0.00217 | Val ndcg@20: 0.00120\n"
     ]
    },
    {
     "name": "stderr",
     "output_type": "stream",
     "text": [
      " 51%|█████     | 51/100 [01:05<01:03,  1.30s/it]"
     ]
    },
    {
     "name": "stdout",
     "output_type": "stream",
     "text": [
      "Epoch 50 | Train loss: -0.94410 | Val loss: 915.31879 | Val recall@20: 0.00407 | Val ndcg@20: 0.00194\n"
     ]
    },
    {
     "name": "stderr",
     "output_type": "stream",
     "text": [
      " 56%|█████▌    | 56/100 [01:11<00:57,  1.30s/it]"
     ]
    },
    {
     "name": "stdout",
     "output_type": "stream",
     "text": [
      "Epoch 55 | Train loss: -1.50648 | Val loss: 1179.99963 | Val recall@20: 0.00407 | Val ndcg@20: 0.00165\n"
     ]
    },
    {
     "name": "stderr",
     "output_type": "stream",
     "text": [
      " 61%|██████    | 61/100 [01:17<00:50,  1.29s/it]"
     ]
    },
    {
     "name": "stdout",
     "output_type": "stream",
     "text": [
      "Epoch 60 | Train loss: -1.68939 | Val loss: 1474.83862 | Val recall@20: 0.00407 | Val ndcg@20: 0.00204\n"
     ]
    },
    {
     "name": "stderr",
     "output_type": "stream",
     "text": [
      " 66%|██████▌   | 66/100 [01:23<00:44,  1.31s/it]"
     ]
    },
    {
     "name": "stdout",
     "output_type": "stream",
     "text": [
      "Epoch 65 | Train loss: -2.07808 | Val loss: 1818.91931 | Val recall@20: 0.00470 | Val ndcg@20: 0.00287\n"
     ]
    },
    {
     "name": "stderr",
     "output_type": "stream",
     "text": [
      " 71%|███████   | 71/100 [01:30<00:38,  1.31s/it]"
     ]
    },
    {
     "name": "stdout",
     "output_type": "stream",
     "text": [
      "Epoch 70 | Train loss: -2.56056 | Val loss: 2191.49097 | Val recall@20: 0.00430 | Val ndcg@20: 0.00373\n"
     ]
    },
    {
     "name": "stderr",
     "output_type": "stream",
     "text": [
      " 76%|███████▌  | 76/100 [01:36<00:30,  1.29s/it]"
     ]
    },
    {
     "name": "stdout",
     "output_type": "stream",
     "text": [
      "Epoch 75 | Train loss: -2.49274 | Val loss: 2596.62158 | Val recall@20: 0.00407 | Val ndcg@20: 0.00362\n"
     ]
    },
    {
     "name": "stderr",
     "output_type": "stream",
     "text": [
      " 81%|████████  | 81/100 [01:42<00:24,  1.31s/it]"
     ]
    },
    {
     "name": "stdout",
     "output_type": "stream",
     "text": [
      "Epoch 80 | Train loss: -3.17502 | Val loss: 3032.18164 | Val recall@20: 0.00430 | Val ndcg@20: 0.00443\n"
     ]
    },
    {
     "name": "stderr",
     "output_type": "stream",
     "text": [
      " 86%|████████▌ | 86/100 [01:48<00:18,  1.29s/it]"
     ]
    },
    {
     "name": "stdout",
     "output_type": "stream",
     "text": [
      "Epoch 85 | Train loss: -3.49831 | Val loss: 3487.77100 | Val recall@20: 0.00494 | Val ndcg@20: 0.00464\n"
     ]
    },
    {
     "name": "stderr",
     "output_type": "stream",
     "text": [
      " 91%|█████████ | 91/100 [01:55<00:11,  1.31s/it]"
     ]
    },
    {
     "name": "stdout",
     "output_type": "stream",
     "text": [
      "Epoch 90 | Train loss: -4.87974 | Val loss: 4008.40894 | Val recall@20: 0.00494 | Val ndcg@20: 0.00466\n"
     ]
    },
    {
     "name": "stderr",
     "output_type": "stream",
     "text": [
      " 96%|█████████▌| 96/100 [02:01<00:05,  1.33s/it]"
     ]
    },
    {
     "name": "stdout",
     "output_type": "stream",
     "text": [
      "Epoch 95 | Train loss: -3.21454 | Val loss: 4525.77783 | Val recall@20: 0.00494 | Val ndcg@20: 0.00469\n"
     ]
    },
    {
     "name": "stderr",
     "output_type": "stream",
     "text": [
      "100%|██████████| 100/100 [02:06<00:00,  1.27s/it]"
     ]
    },
    {
     "name": "stdout",
     "output_type": "stream",
     "text": [
      "CPU times: user 2min 4s, sys: 723 ms, total: 2min 4s\n",
      "Wall time: 2min 6s\n"
     ]
    },
    {
     "name": "stderr",
     "output_type": "stream",
     "text": [
      "\n"
     ]
    }
   ],
   "source": [
    "%%time\n",
    "from tqdm import tqdm\n",
    "\n",
    "n_batch = int(len(train_index)/BATCH_SIZE)\n",
    "\n",
    "for epoch in tqdm(range(100)):\n",
    "    model.train()\n",
    "\n",
    "    for _ in range(n_batch):\n",
    "        optimizer.zero_grad()\n",
    "\n",
    "        emb_users_final, emb_users, emb_items_final, emb_items = model.forward(train_edge_index)\n",
    "\n",
    "        user_indices, pos_item_indices, neg_item_indices = sample_mini_batch(train_edge_index, batch_size=BATCH_SIZE)\n",
    "        \n",
    "        emb_users_final, emb_users = emb_users_final[user_indices], emb_users[user_indices]\n",
    "        emb_pos_items_final, emb_pos_items = emb_items_final[pos_item_indices], emb_items[pos_item_indices]\n",
    "        emb_neg_items_final, emb_neg_items = emb_items_final[neg_item_indices], emb_items[neg_item_indices]\n",
    "\n",
    "        train_loss = bpr_loss(emb_users_final, emb_users, emb_pos_items_final, emb_pos_items, emb_neg_items_final, emb_neg_items, LAMBDA)\n",
    "\n",
    "        train_loss.backward()\n",
    "        optimizer.step()\n",
    "\n",
    "    if epoch % 5 == 0:\n",
    "        model.eval()\n",
    "        val_loss, recall, ndcg = test(model, val_edge_index, [train_edge_index], K)\n",
    "        print(f\"Epoch {epoch} | Train loss: {train_loss.item():.5f} | Val loss: {val_loss:.5f} | Val recall@{K}: {recall:.5f} | Val ndcg@{K}: {ndcg:.5f}\")"
   ]
  },
  {
   "cell_type": "code",
   "execution_count": null,
   "metadata": {},
   "outputs": [],
   "source": []
  }
 ],
 "metadata": {
  "kernelspec": {
   "display_name": "Python 3",
   "language": "python",
   "name": "python3"
  },
  "language_info": {
   "codemirror_mode": {
    "name": "ipython",
    "version": 3
   },
   "file_extension": ".py",
   "mimetype": "text/x-python",
   "name": "python",
   "nbconvert_exporter": "python",
   "pygments_lexer": "ipython3",
   "version": "3.8.19"
  }
 },
 "nbformat": 4,
 "nbformat_minor": 2
}
